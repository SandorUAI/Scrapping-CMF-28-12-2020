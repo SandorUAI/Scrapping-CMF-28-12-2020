{
 "cells": [
  {
   "cell_type": "code",
   "execution_count": 1,
   "metadata": {},
   "outputs": [],
   "source": [
    "import pandas as pd\n",
    "from selenium import webdriver\n",
    "from selenium.webdriver.common.keys import Keys\n",
    "import time\n",
    "from selenium.webdriver.common.by import By\n",
    "from selenium.webdriver.support.ui import WebDriverWait\n",
    "from selenium.webdriver.support import expected_conditions as EC\n",
    "from selenium.webdriver.common.action_chains import  ActionChains"
   ]
  },
  {
   "cell_type": "code",
   "execution_count": 2,
   "metadata": {},
   "outputs": [],
   "source": [
    "PATH = \"C:\\Program Files (x86)\\chromedriver.exe\"\n",
    "driver = webdriver.Chrome(PATH)\n",
    "driver.get(\"http://www.cmfchile.cl/institucional/mercados/listado_actual_directorios.php?mercado=V\")"
   ]
  },
  {
   "cell_type": "code",
   "execution_count": 3,
   "metadata": {},
   "outputs": [
    {
     "data": {
      "text/plain": [
       "'Rut Razón Social'"
      ]
     },
     "execution_count": 3,
     "metadata": {},
     "output_type": "execute_result"
    }
   ],
   "source": [
    "Table = driver.find_element_by_xpath(\"/html/body/div[1]/div[4]/div[4]/table\").text.split(\"\\n\")\n",
    "\n",
    "\n",
    "empresas_nombre = []\n",
    "for i in range(928):\n",
    "\tif (i/2).is_integer() == True:\n",
    "\t\tempresas_nombre.append(Table[i])\n",
    "\n",
    "empresas_rut = []\n",
    "for i in range(926):\n",
    "\tif (i/2).is_integer() == False:\n",
    "\t\tempresas_rut.append(Table[i])\n",
    "\n",
    "\n",
    "empresas_nombre.pop(0)"
   ]
  },
  {
   "cell_type": "code",
   "execution_count": 6,
   "metadata": {},
   "outputs": [
    {
     "name": "stdout",
     "output_type": "stream",
     "text": [
      "ERROR 86099700 !!!\n",
      "ERROR 76503273 !!!\n",
      "ERROR 76172904 !!!\n",
      "ERROR 91126000 !!!\n"
     ]
    }
   ],
   "source": [
    "##agregamos la columna que indique a que empresa corresponde.\n",
    "Rut_especifico = []\n",
    "Nombre_documento = []\n",
    "\n",
    "\n",
    "for rut in empresas_rut:\n",
    "    try:\n",
    "        Rut_especifico = rut\n",
    "        Nombre_documento = [f\"{rut}.csv\"]\n",
    "        df_empresa = pd.read_csv(Nombre_documento[0])\n",
    "        df_empresa[\"Rut_Empresa\"] = rut\n",
    "        df_empresa.to_csv(Nombre_documento[0], index=False)\n",
    "    except:\n",
    "        print(f\"ERROR {rut} !!!\")\n",
    "        continue"
   ]
  },
  {
   "cell_type": "code",
   "execution_count": 7,
   "metadata": {},
   "outputs": [],
   "source": [
    "#Fusionamos los datos en un unico Data_Frame\n",
    "import os\n",
    "import glob\n",
    "import pandas as pd\n",
    "os.chdir(r\"C:\\Users\\sando\\Desktop\\CODING\\Scrapping CMF\\Comienzo practica 28-12-2020 en adelante\\Datos\")\n",
    "\n",
    "extension = 'csv'\n",
    "all_filenames = [i for i in glob.glob('*.{}'.format(extension))]\n",
    "\n",
    "combined_csv = pd.concat([pd.read_csv(f) for f in all_filenames ])\n",
    "#export to csv\n",
    "combined_csv.to_csv( \"Directores_por_empresa.csv\", index=False, encoding='utf-8-sig')"
   ]
  },
  {
   "cell_type": "code",
   "execution_count": 9,
   "metadata": {},
   "outputs": [],
   "source": [
    "##ELIMINAMOS EL INDICE\n",
    "df = pd.read_csv(\"Directores_por_empresa.csv\")\n",
    "df.drop(['Unnamed: 0'], axis=1, inplace=True)\n",
    "df.to_csv(\"Empresas_CMF_directores_sin_index.csv\", index=False, encoding='utf-8-sig')"
   ]
  },
  {
   "cell_type": "code",
   "execution_count": 14,
   "metadata": {},
   "outputs": [
    {
     "data": {
      "text/plain": [
       "463"
      ]
     },
     "execution_count": 14,
     "metadata": {},
     "output_type": "execute_result"
    }
   ],
   "source": [
    "len(empresas_rut)"
   ]
  },
  {
   "cell_type": "code",
   "execution_count": 13,
   "metadata": {},
   "outputs": [
    {
     "data": {
      "text/plain": [
       "463"
      ]
     },
     "execution_count": 13,
     "metadata": {},
     "output_type": "execute_result"
    }
   ],
   "source": [
    "len(empresas_nombre)"
   ]
  },
  {
   "cell_type": "code",
   "execution_count": null,
   "metadata": {},
   "outputs": [],
   "source": [
    "## hacemos diccionarios con los rut y los nombres"
   ]
  },
  {
   "cell_type": "code",
   "execution_count": 55,
   "metadata": {},
   "outputs": [],
   "source": [
    " def Convert(lst):\n",
    "    res_dct = {lst[i]: lst[i + 1] for i in range(0, len(lst), 2)}\n",
    "    return res_dct"
   ]
  },
  {
   "cell_type": "code",
   "execution_count": 56,
   "metadata": {},
   "outputs": [],
   "source": [
    "Dicc = Convert(Table)\n"
   ]
  },
  {
   "cell_type": "code",
   "execution_count": 66,
   "metadata": {},
   "outputs": [
    {
     "data": {
      "text/html": [
       "<div>\n",
       "<style scoped>\n",
       "    .dataframe tbody tr th:only-of-type {\n",
       "        vertical-align: middle;\n",
       "    }\n",
       "\n",
       "    .dataframe tbody tr th {\n",
       "        vertical-align: top;\n",
       "    }\n",
       "\n",
       "    .dataframe thead th {\n",
       "        text-align: right;\n",
       "    }\n",
       "</style>\n",
       "<table border=\"1\" class=\"dataframe\">\n",
       "  <thead>\n",
       "    <tr style=\"text-align: right;\">\n",
       "      <th></th>\n",
       "      <th>Rut_individuo</th>\n",
       "      <th>Nombre</th>\n",
       "      <th>Cargo</th>\n",
       "      <th>Fecha_nombramiento</th>\n",
       "      <th>Fecha_termino</th>\n",
       "      <th>Rut_Empresa</th>\n",
       "    </tr>\n",
       "  </thead>\n",
       "  <tbody>\n",
       "    <tr>\n",
       "      <th>0</th>\n",
       "      <td>0-E</td>\n",
       "      <td>LUIS ORVAÑANOS LASCURAIN</td>\n",
       "      <td>Presidente</td>\n",
       "      <td>28/03/2012</td>\n",
       "      <td>NaN</td>\n",
       "      <td>59175530</td>\n",
       "    </tr>\n",
       "    <tr>\n",
       "      <th>1</th>\n",
       "      <td>0-E</td>\n",
       "      <td>EMILIO CUENCA FRIEDERICHSEN</td>\n",
       "      <td>Director</td>\n",
       "      <td>28/03/2012</td>\n",
       "      <td>NaN</td>\n",
       "      <td>59175530</td>\n",
       "    </tr>\n",
       "    <tr>\n",
       "      <th>2</th>\n",
       "      <td>0-E</td>\n",
       "      <td>ROBERTO ORVAÑANOS CONDE</td>\n",
       "      <td>Director</td>\n",
       "      <td>28/03/2012</td>\n",
       "      <td>NaN</td>\n",
       "      <td>59175530</td>\n",
       "    </tr>\n",
       "    <tr>\n",
       "      <th>3</th>\n",
       "      <td>0-E</td>\n",
       "      <td>IÑIGO ORVAÑANOS CORCUERA</td>\n",
       "      <td>Director</td>\n",
       "      <td>28/03/2012</td>\n",
       "      <td>NaN</td>\n",
       "      <td>59175530</td>\n",
       "    </tr>\n",
       "    <tr>\n",
       "      <th>4</th>\n",
       "      <td>0-E</td>\n",
       "      <td>RAUL ZORRILLA COSIO</td>\n",
       "      <td>Director</td>\n",
       "      <td>28/03/2012</td>\n",
       "      <td>NaN</td>\n",
       "      <td>59175530</td>\n",
       "    </tr>\n",
       "    <tr>\n",
       "      <th>...</th>\n",
       "      <td>...</td>\n",
       "      <td>...</td>\n",
       "      <td>...</td>\n",
       "      <td>...</td>\n",
       "      <td>...</td>\n",
       "      <td>...</td>\n",
       "    </tr>\n",
       "    <tr>\n",
       "      <th>15776</th>\n",
       "      <td>2.485.422-1</td>\n",
       "      <td>MARIO ALFREDO SANTANDER GARCÍA</td>\n",
       "      <td>Director</td>\n",
       "      <td>30/04/2010</td>\n",
       "      <td>29/04/2013</td>\n",
       "      <td>99598300</td>\n",
       "    </tr>\n",
       "    <tr>\n",
       "      <th>15777</th>\n",
       "      <td>3.185.849-6</td>\n",
       "      <td>NORMAN HANSEN ROSES</td>\n",
       "      <td>Director</td>\n",
       "      <td>30/04/2010</td>\n",
       "      <td>29/04/2013</td>\n",
       "      <td>99598300</td>\n",
       "    </tr>\n",
       "    <tr>\n",
       "      <th>15778</th>\n",
       "      <td>3.712.353-6</td>\n",
       "      <td>CANIO CORBO LIOI</td>\n",
       "      <td>Director</td>\n",
       "      <td>30/04/2010</td>\n",
       "      <td>29/04/2013</td>\n",
       "      <td>99598300</td>\n",
       "    </tr>\n",
       "    <tr>\n",
       "      <th>15779</th>\n",
       "      <td>3.899.021-7</td>\n",
       "      <td>HORACIO NOLBERTO PAVEZ GARCIA</td>\n",
       "      <td>Director</td>\n",
       "      <td>30/04/2010</td>\n",
       "      <td>29/04/2013</td>\n",
       "      <td>99598300</td>\n",
       "    </tr>\n",
       "    <tr>\n",
       "      <th>15780</th>\n",
       "      <td>6.372.286-3</td>\n",
       "      <td>JOSÉ RAMÓN ABOITIZ DOMINGUEZ</td>\n",
       "      <td>Director</td>\n",
       "      <td>30/04/2010</td>\n",
       "      <td>29/04/2013</td>\n",
       "      <td>99598300</td>\n",
       "    </tr>\n",
       "  </tbody>\n",
       "</table>\n",
       "<p>15781 rows × 6 columns</p>\n",
       "</div>"
      ],
      "text/plain": [
       "      Rut_individuo                          Nombre       Cargo  \\\n",
       "0               0-E        LUIS ORVAÑANOS LASCURAIN  Presidente   \n",
       "1               0-E     EMILIO CUENCA FRIEDERICHSEN    Director   \n",
       "2               0-E         ROBERTO ORVAÑANOS CONDE    Director   \n",
       "3               0-E        IÑIGO ORVAÑANOS CORCUERA    Director   \n",
       "4               0-E             RAUL ZORRILLA COSIO    Director   \n",
       "...             ...                             ...         ...   \n",
       "15776   2.485.422-1  MARIO ALFREDO SANTANDER GARCÍA    Director   \n",
       "15777   3.185.849-6             NORMAN HANSEN ROSES    Director   \n",
       "15778   3.712.353-6                CANIO CORBO LIOI    Director   \n",
       "15779   3.899.021-7   HORACIO NOLBERTO PAVEZ GARCIA    Director   \n",
       "15780   6.372.286-3    JOSÉ RAMÓN ABOITIZ DOMINGUEZ    Director   \n",
       "\n",
       "      Fecha_nombramiento Fecha_termino  Rut_Empresa  \n",
       "0             28/03/2012           NaN     59175530  \n",
       "1             28/03/2012           NaN     59175530  \n",
       "2             28/03/2012           NaN     59175530  \n",
       "3             28/03/2012           NaN     59175530  \n",
       "4             28/03/2012           NaN     59175530  \n",
       "...                  ...           ...          ...  \n",
       "15776         30/04/2010    29/04/2013     99598300  \n",
       "15777         30/04/2010    29/04/2013     99598300  \n",
       "15778         30/04/2010    29/04/2013     99598300  \n",
       "15779         30/04/2010    29/04/2013     99598300  \n",
       "15780         30/04/2010    29/04/2013     99598300  \n",
       "\n",
       "[15781 rows x 6 columns]"
      ]
     },
     "execution_count": 66,
     "metadata": {},
     "output_type": "execute_result"
    }
   ],
   "source": [
    "df = pd.read_csv(\"Empresas_CMF_directores_sin_index.csv\")\n",
    "df"
   ]
  },
  {
   "cell_type": "code",
   "execution_count": 58,
   "metadata": {},
   "outputs": [
    {
     "data": {
      "text/plain": [
       "'AUTOMOVILISMO Y TURISMO S.A.'"
      ]
     },
     "execution_count": 58,
     "metadata": {},
     "output_type": "execute_result"
    }
   ],
   "source": [
    "Dicc.pop(\"86099700\")\n",
    "Dicc.pop(\"76503273\")\n",
    "Dicc.pop(\"76172904\")\n",
    "Dicc.pop(\"91126000\")"
   ]
  },
  {
   "cell_type": "code",
   "execution_count": 59,
   "metadata": {},
   "outputs": [],
   "source": [
    "data_items = Dicc.items()\n",
    "data_list = list(data_items)\n",
    "\n",
    "df_dic = pd.DataFrame(data_list)"
   ]
  },
  {
   "cell_type": "code",
   "execution_count": 61,
   "metadata": {},
   "outputs": [
    {
     "data": {
      "text/plain": [
       "0    448\n",
       "1    448\n",
       "dtype: int64"
      ]
     },
     "execution_count": 61,
     "metadata": {},
     "output_type": "execute_result"
    }
   ],
   "source": [
    "df_dic.nunique()"
   ]
  },
  {
   "cell_type": "code",
   "execution_count": 62,
   "metadata": {},
   "outputs": [
    {
     "data": {
      "text/plain": [
       "Rut_individuo         3921\n",
       "Nombre                4856\n",
       "Cargo                    4\n",
       "Fecha_nombramiento    1320\n",
       "Fecha_termino         1290\n",
       "Rut_Empresa            448\n",
       "dtype: int64"
      ]
     },
     "execution_count": 62,
     "metadata": {},
     "output_type": "execute_result"
    }
   ],
   "source": [
    "df.nunique()"
   ]
  },
  {
   "cell_type": "code",
   "execution_count": 99,
   "metadata": {},
   "outputs": [],
   "source": [
    "##añadiendo nombres de empresa\n",
    "key = []\n",
    "df[\"Nombre_empresa\"] = \"nada\"\n",
    "for i in range(15781):\n",
    "    key = [str(df.iloc[i , 5])]\n",
    "    df.iloc[i , 6] = Dicc[key[0]]\n",
    "    key.clear()"
   ]
  },
  {
   "cell_type": "code",
   "execution_count": 100,
   "metadata": {},
   "outputs": [],
   "source": [
    "df.to_csv( \"Lista_completa_2.csv\", index=False, encoding='utf-8-sig')"
   ]
  },
  {
   "cell_type": "code",
   "execution_count": null,
   "metadata": {},
   "outputs": [],
   "source": []
  },
  {
   "cell_type": "code",
   "execution_count": 78,
   "metadata": {},
   "outputs": [
    {
     "name": "stdout",
     "output_type": "stream",
     "text": [
      "0\n",
      "1\n",
      "2\n",
      "3\n",
      "4\n",
      "5\n",
      "6\n",
      "7\n",
      "8\n",
      "9\n"
     ]
    }
   ],
   "source": []
  },
  {
   "cell_type": "code",
   "execution_count": null,
   "metadata": {},
   "outputs": [],
   "source": []
  },
  {
   "cell_type": "code",
   "execution_count": null,
   "metadata": {},
   "outputs": [],
   "source": []
  },
  {
   "cell_type": "code",
   "execution_count": null,
   "metadata": {},
   "outputs": [],
   "source": []
  },
  {
   "cell_type": "code",
   "execution_count": null,
   "metadata": {},
   "outputs": [],
   "source": []
  },
  {
   "cell_type": "code",
   "execution_count": null,
   "metadata": {},
   "outputs": [],
   "source": []
  }
 ],
 "metadata": {
  "kernelspec": {
   "display_name": "Python 3",
   "language": "python",
   "name": "python3"
  },
  "language_info": {
   "codemirror_mode": {
    "name": "ipython",
    "version": 3
   },
   "file_extension": ".py",
   "mimetype": "text/x-python",
   "name": "python",
   "nbconvert_exporter": "python",
   "pygments_lexer": "ipython3",
   "version": "3.7.6"
  }
 },
 "nbformat": 4,
 "nbformat_minor": 4
}
